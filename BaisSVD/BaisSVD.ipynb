{
 "cells": [
  {
   "cell_type": "code",
   "execution_count": 1,
   "metadata": {},
   "outputs": [],
   "source": [
    "import numpy as np\n",
    "import math\n",
    "from sklearn.model_selection import train_test_split\n",
    "from data import *\n",
    "from evaluation import *\n",
    "%matplotlib inline"
   ]
  },
  {
   "cell_type": "markdown",
   "metadata": {},
   "source": [
    "### 加载数据集"
   ]
  },
  {
   "cell_type": "code",
   "execution_count": 2,
   "metadata": {
    "collapsed": false,
    "jupyter": {
     "outputs_hidden": false
    }
   },
   "outputs": [
    {
     "name": "stdout",
     "output_type": "stream",
     "text": [
      " data length: 100000 \n",
      " user number: 943 \n",
      " item number: 1682\n"
     ]
    }
   ],
   "source": [
    "data_dir = 'u.data' \n",
    "N, M, data_list, _ = load_data(file_dir=data_dir)\n",
    "print(' data length: %d \\n user number: %d \\n item number: %d' %(len(data_list),N,M))"
   ]
  },
  {
   "cell_type": "markdown",
   "metadata": {},
   "source": [
    "### 分割数据集"
   ]
  },
  {
   "cell_type": "code",
   "execution_count": 3,
   "metadata": {
    "collapsed": false,
    "jupyter": {
     "outputs_hidden": false
    }
   },
   "outputs": [
    {
     "name": "stdout",
     "output_type": "stream",
     "text": [
      "train length: 80000 \n",
      " test length: 20000\n"
     ]
    }
   ],
   "source": [
    "train_list, test_list = train_test_split(data_list,test_size=0.2)\n",
    "print ('train length: %d \\n test length: %d' %(len(train_list),len(test_list)))"
   ]
  },
  {
   "cell_type": "markdown",
   "metadata": {},
   "source": [
    "### 将 list 转换成 矩阵"
   ]
  },
  {
   "cell_type": "code",
   "execution_count": 4,
   "metadata": {},
   "outputs": [],
   "source": [
    "train_mat = sequence2mat(sequence = train_list, N = N, M = M)\n",
    "test_mat = sequence2mat(sequence = test_list, N = N, M = M)"
   ]
  },
  {
   "cell_type": "markdown",
   "metadata": {},
   "source": [
    "### 参数设置"
   ]
  },
  {
   "cell_type": "code",
   "execution_count": 5,
   "metadata": {},
   "outputs": [],
   "source": [
    "learning_rate = 0.005\n",
    "lamda_regularizer = 0.1\n",
    "max_iteration = 100\n",
    "K = 10"
   ]
  },
  {
   "cell_type": "markdown",
   "metadata": {},
   "source": [
    "### 5. 带偏置的SVD（BiasSVD）"
   ]
  },
  {
   "cell_type": "code",
   "execution_count": null,
   "metadata": {
    "collapsed": false,
    "jupyter": {
     "outputs_hidden": false
    }
   },
   "outputs": [
    {
     "name": "stdout",
     "output_type": "stream",
     "text": [
      " step:0 \n",
      " loss:46801.5215,mae:0.8194,rmse:1.0092,recall:0.0630,precision:0.1335\n",
      " step:10 \n",
      " loss:47404.3132,mae:0.7531,rmse:0.9477,recall:0.0364,precision:0.0772\n",
      " step:20 \n",
      " loss:47734.4709,mae:0.7485,rmse:0.9432,recall:0.0316,precision:0.0670\n",
      " step:30 \n",
      " loss:47449.2644,mae:0.7441,rmse:0.9383,recall:0.0294,precision:0.0622\n",
      " step:40 \n",
      " loss:46757.7898,mae:0.7371,rmse:0.9299,recall:0.0301,precision:0.0638\n",
      " step:50 \n",
      " loss:46031.2167,mae:0.7317,rmse:0.9235,recall:0.0300,precision:0.0636\n",
      " step:60 \n",
      " loss:45364.5713,mae:0.7284,rmse:0.9198,recall:0.0292,precision:0.0619\n",
      " step:70 \n",
      " loss:44764.3419,mae:0.7263,rmse:0.9177,recall:0.0279,precision:0.0593\n",
      " step:80 \n",
      " loss:44254.8529,mae:0.7250,rmse:0.9166,recall:0.0265,precision:0.0561\n"
     ]
    }
   ],
   "source": [
    "from biassvd import *\n",
    "max_iteration = 100\n",
    "model = biassvd(train_list=train_list, \n",
    "                test_list=test_list, \n",
    "                N=N, \n",
    "                M=M,\n",
    "                K=K,\n",
    "                learning_rate=learning_rate, \n",
    "                lamda_regularizer=lamda_regularizer, \n",
    "                max_iteration=max_iteration)\n",
    "P, Q, bu, bi, records_array = model.train()\n",
    "print('MAE:%.4f;RMSE:%.4f;Recall:%.4f;Precision:%.4f'\n",
    "      %(records_array[:,1][-1],records_array[:,2][-1],records_array[:,3][-1],records_array[:,4][-1]))\n",
    "\n",
    "figure(values_list=records_array[:,0],name='loss')\n",
    "figure(values_list=records_array[:,1],name='MAE')"
   ]
  },
  {
   "cell_type": "code",
   "execution_count": null,
   "metadata": {},
   "outputs": [],
   "source": []
  }
 ],
 "metadata": {
  "kernelspec": {
   "display_name": "Python 3",
   "language": "python",
   "name": "python3"
  },
  "language_info": {
   "codemirror_mode": {
    "name": "ipython",
    "version": 3
   },
   "file_extension": ".py",
   "mimetype": "text/x-python",
   "name": "python",
   "nbconvert_exporter": "python",
   "pygments_lexer": "ipython3",
   "version": "3.7.3"
  }
 },
 "nbformat": 4,
 "nbformat_minor": 4
}
