{
 "cells": [
  {
   "cell_type": "code",
   "execution_count": 1,
   "metadata": {},
   "outputs": [],
   "source": [
    "import numpy as np\n",
    "import math\n",
    "from sklearn.model_selection import train_test_split\n",
    "from data import *\n",
    "from evaluation import *\n",
    "%matplotlib inline"
   ]
  },
  {
   "cell_type": "markdown",
   "metadata": {},
   "source": [
    "### 加载数据集"
   ]
  },
  {
   "cell_type": "code",
   "execution_count": 2,
   "metadata": {
    "collapsed": false,
    "jupyter": {
     "outputs_hidden": false
    }
   },
   "outputs": [
    {
     "name": "stdout",
     "output_type": "stream",
     "text": [
      " data length: 100000 \n",
      " user number: 943 \n",
      " item number: 1682\n"
     ]
    }
   ],
   "source": [
    "data_dir = 'u.data' \n",
    "N, M, data_list, _ = load_data(file_dir=data_dir)\n",
    "print(' data length: %d \\n user number: %d \\n item number: %d' %(len(data_list),N,M))"
   ]
  },
  {
   "cell_type": "markdown",
   "metadata": {},
   "source": [
    "### 分割数据集"
   ]
  },
  {
   "cell_type": "code",
   "execution_count": 3,
   "metadata": {
    "collapsed": false,
    "jupyter": {
     "outputs_hidden": false
    }
   },
   "outputs": [
    {
     "name": "stdout",
     "output_type": "stream",
     "text": [
      "train length: 80000 \n",
      " test length: 20000\n"
     ]
    }
   ],
   "source": [
    "train_list, test_list = train_test_split(data_list,test_size=0.2)\n",
    "print ('train length: %d \\n test length: %d' %(len(train_list),len(test_list)))"
   ]
  },
  {
   "cell_type": "markdown",
   "metadata": {},
   "source": [
    "### 将 list 转换成 矩阵"
   ]
  },
  {
   "cell_type": "code",
   "execution_count": 4,
   "metadata": {},
   "outputs": [],
   "source": [
    "train_mat = sequence2mat(sequence = train_list, N = N, M = M)\n",
    "test_mat = sequence2mat(sequence = test_list, N = N, M = M)"
   ]
  },
  {
   "cell_type": "markdown",
   "metadata": {},
   "source": [
    "### 参数设置"
   ]
  },
  {
   "cell_type": "code",
   "execution_count": 5,
   "metadata": {},
   "outputs": [],
   "source": [
    "learning_rate = 0.005\n",
    "lamda_regularizer = 0.1\n",
    "max_iteration = 100\n",
    "K = 10"
   ]
  },
  {
   "cell_type": "markdown",
   "metadata": {},
   "source": [
    "### 4. 权重矩阵分解 （WMF）"
   ]
  },
  {
   "cell_type": "code",
   "execution_count": 6,
   "metadata": {
    "collapsed": false,
    "jupyter": {
     "outputs_hidden": false
    }
   },
   "outputs": [
    {
     "name": "stdout",
     "output_type": "stream",
     "text": [
      " step:0 \n",
      " mae:1.8643,rmse:2.3299,recall:0.0203,precision:0.0431\n",
      " step:1 \n",
      " mae:0.8486,rmse:1.1102,recall:0.0722,precision:0.1530\n",
      " step:2 \n",
      " mae:0.8368,rmse:1.0983,recall:0.0774,precision:0.1642\n",
      " step:3 \n",
      " mae:0.8326,rmse:1.0950,recall:0.0784,precision:0.1662\n",
      " step:4 \n",
      " mae:0.8303,rmse:1.0932,recall:0.0791,precision:0.1678\n",
      " step:5 \n",
      " mae:0.8289,rmse:1.0918,recall:0.0788,precision:0.1670\n",
      " step:6 \n",
      " mae:0.8280,rmse:1.0910,recall:0.0785,precision:0.1666\n",
      " step:7 \n",
      " mae:0.8274,rmse:1.0906,recall:0.0792,precision:0.1680\n",
      " step:8 \n",
      " mae:0.8271,rmse:1.0907,recall:0.0781,precision:0.1656\n",
      " step:9 \n",
      " mae:0.8268,rmse:1.0910,recall:0.0788,precision:0.1670\n",
      " end. \n",
      " mae:0.8268,rmse:1.0910,recall:0.0788,precision:0.1670\n",
      "MAE:0.8268;RMSE:1.0910;Recall:0.0788;Precision:0.1670\n"
     ]
    },
    {
     "data": {
      "image/png": "[encoded data removed]",
      "text/plain": [
       "<Figure size 432x288 with 1 Axes>"
      ]
     },
     "metadata": {
      "needs_background": "light"
     },
     "output_type": "display_data"
    },
    {
     "data": {
      "image/png": "[encoded data removed]",
      "text/plain": [
       "<Figure size 432x288 with 1 Axes>"
      ]
     },
     "metadata": {
      "needs_background": "light"
     },
     "output_type": "display_data"
    }
   ],
   "source": [
    "from wmf import *\n",
    "max_iteration = 10\n",
    "alpha=40\n",
    "model = wmf(train_list=train_list, \n",
    "            test_list=test_list, \n",
    "            N=N, \n",
    "            M=M,\n",
    "            K=K,\n",
    "            alpha=alpha,\n",
    "            lamda_regularizer=lamda_regularizer, \n",
    "            max_iteration=max_iteration)\n",
    "P, Q, records_array = model.train()\n",
    "print('MAE:%.4f;RMSE:%.4f;Recall:%.4f;Precision:%.4f'\n",
    "      %(records_array[:,0][-1],records_array[:,1][-1],records_array[:,2][-1],records_array[:,3][-1]))\n",
    "\n",
    "figure(values_list=records_array[:,2],name='Recall')\n",
    "figure(values_list=records_array[:,3],name='Precision')"
   ]
  },
  {
   "cell_type": "code",
   "execution_count": null,
   "metadata": {},
   "outputs": [],
   "source": []
  }
 ],
 "metadata": {
  "kernelspec": {
   "display_name": "Python 3",
   "language": "python",
   "name": "python3"
  },
  "language_info": {
   "codemirror_mode": {
    "name": "ipython",
    "version": 3
   },
   "file_extension": ".py",
   "mimetype": "text/x-python",
   "name": "python",
   "nbconvert_exporter": "python",
   "pygments_lexer": "ipython3",
   "version": "3.7.3"
  }
 },
 "nbformat": 4,
 "nbformat_minor": 4
}
