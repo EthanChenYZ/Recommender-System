{
 "cells": [
  {
   "cell_type": "code",
   "execution_count": 20,
   "metadata": {},
   "outputs": [],
   "source": [
    "import pandas as pd\n",
    "import numpy as np\n",
    "import matplotlib.pyplot as plt"
   ]
  },
  {
   "cell_type": "code",
   "execution_count": 31,
   "metadata": {},
   "outputs": [],
   "source": [
    "def Load_data(filedir):\n",
    "    \n",
    "    user_set={}\n",
    "    item_set={}\n",
    "    u_idx=0\n",
    "    i_idx=0\n",
    "    data=[]\n",
    "    f = open(filedir)\n",
    "    for line in f.readlines():\n",
    "        u,i,r,t=line.split()\n",
    "        if int(u) not in user_set:\n",
    "            user_set[int(u)]=u_idx\n",
    "            u_idx+=1\n",
    "        if int(i) not in item_set:\n",
    "            item_set[int(i)]=i_idx\n",
    "            i_idx+=1\n",
    "        data.append([user_set[int(u)],item_set[int(i)],int(r), int(t)])\n",
    "    f.close()\n",
    "    \n",
    "    return data"
   ]
  },
  {
   "cell_type": "code",
   "execution_count": 32,
   "metadata": {},
   "outputs": [],
   "source": [
    "def List_to_DataFrame(data):\n",
    "    \n",
    "    data_df = pd.DataFrame(data)\n",
    "    data_df.columns = ['user_id', 'item_id', 'score', 'time']\n",
    "    data_df = data_df.sort_values(['user_id', 'time']).reset_index(drop = True)\n",
    "    \n",
    "    return data_df"
   ]
  },
  {
   "cell_type": "code",
   "execution_count": 34,
   "metadata": {},
   "outputs": [],
   "source": [
    "def Data_Split(data_df):\n",
    "    \n",
    "    data_df = data_df.drop(columns = ['time'])\n",
    "    train_df = pd.DataFrame(columns=['user_id', 'item_id', 'score'])\n",
    "    test_df = pd.DataFrame(columns=['user_id', 'item_id', 'score'])\n",
    "    \n",
    "    for i in range(data_df.user_id.nunique()):\n",
    "        \n",
    "        user_df = data_df[data_df['user_id'] == i]\n",
    "        train_df = pd.concat([train_df, user_df.head(-1)])\n",
    "        test_df = pd.concat([train_df, user_df.tail(1)])\n",
    "    \n",
    "    train_df = train_df.reset_index(drop = True)\n",
    "    test_df = train_df.reset_index(drop = True)\n",
    "        \n",
    "    return train_df, test_df    "
   ]
  },
  {
   "cell_type": "code",
   "execution_count": 42,
   "metadata": {},
   "outputs": [],
   "source": [
    "dir_data=\"u.data\"\n",
    "data = Load_data(dir_data)\n",
    "data_df = List_to_DataFrame(data)\n",
    "train_df, test_df = Data_Split(data_df)\n",
    "data_df.to_pickle('data.pkl')\n",
    "train_df.to_pickle('train.pkl')\n",
    "test_df.to_pickle('test.pkl')"
   ]
  },
  {
   "cell_type": "code",
   "execution_count": 40,
   "metadata": {},
   "outputs": [],
   "source": []
  },
  {
   "cell_type": "code",
   "execution_count": null,
   "metadata": {},
   "outputs": [],
   "source": []
  }
 ],
 "metadata": {
  "kernelspec": {
   "display_name": "Python 3",
   "language": "python",
   "name": "python3"
  },
  "language_info": {
   "codemirror_mode": {
    "name": "ipython",
    "version": 3
   },
   "file_extension": ".py",
   "mimetype": "text/x-python",
   "name": "python",
   "nbconvert_exporter": "python",
   "pygments_lexer": "ipython3",
   "version": "3.7.3"
  }
 },
 "nbformat": 4,
 "nbformat_minor": 4
}
