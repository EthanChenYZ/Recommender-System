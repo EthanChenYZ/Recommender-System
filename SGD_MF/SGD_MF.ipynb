{
 "cells": [
  {
   "cell_type": "code",
   "execution_count": 15,
   "metadata": {},
   "outputs": [],
   "source": [
    "from pylab import *\n",
    "import numpy as np\n",
    "import pandas as pd\n",
    "import random\n",
    "import math"
   ]
  },
  {
   "cell_type": "code",
   "execution_count": 16,
   "metadata": {},
   "outputs": [],
   "source": [
    "def SGD(train,test,N,M,gamma,D,lambda_1,Step):\n",
    "    \n",
    "    # train: train data\n",
    "    # test: test data\n",
    "    # N:the number of user\n",
    "    # M:the number of item\n",
    "    # gamma: the learning rata\n",
    "    # D: the number of latent factor\n",
    "    # lambda_1: regularization parameter\n",
    "    # Step: the max iteration\n",
    "    \n",
    "    p = np.random.random((N, D))\n",
    "    q = np.random.random((M, D))\n",
    "    rmse=[]\n",
    "    loss=[]\n",
    "    for ste in range(Step):\n",
    "        los=0.0\n",
    "        for data in train:\n",
    "            u=data[0]\n",
    "            i=data[1]\n",
    "            r=data[2]\n",
    "\n",
    "            e=r-np.dot(p[u],q[i].T)            \n",
    "            p[u]=p[u]+gamma*(e*q[i]-lambda_1*p[u])\n",
    "            q[i]=q[i]+gamma*(e*p[u]-lambda_1*q[i])\n",
    "\n",
    "            los=los+e**2+lambda_1*(np.square(p[u]).sum()+np.square(q[i]).sum())\n",
    "        loss.append(los)\n",
    "        rms=RMSE(p,q,test)\n",
    "        rmse.append(rms)\n",
    "        if ste%10==0:\n",
    "            print(ste/10)\n",
    "            \n",
    "    return loss,rmse,p,q"
   ]
  },
  {
   "cell_type": "code",
   "execution_count": 17,
   "metadata": {},
   "outputs": [],
   "source": [
    "def RMSE(p,q,test):\n",
    "    \n",
    "    count=len(test)\n",
    "    sum_rmse=0.0\n",
    "    for t in test:\n",
    "        u=t[0]\n",
    "        i=t[1]\n",
    "        r=t[2]\n",
    "        pr=np.dot(p[u],q[i].T)\n",
    "        sum_rmse+=np.square(r-pr)\n",
    "    rmse=np.sqrt(sum_rmse/count)\n",
    "    \n",
    "    return rmse"
   ]
  },
  {
   "cell_type": "code",
   "execution_count": 19,
   "metadata": {},
   "outputs": [],
   "source": [
    "def Load_data():\n",
    "    \n",
    "    data_df = pd.read_pickle('data.pkl')\n",
    "    N = data_df.user_id.nunique()\n",
    "    M = data_df.item_id.nunique()\n",
    "    \n",
    "    train_df = pd.read_pickle('train.pkl')\n",
    "    train_df = list(train_df.values)\n",
    "    for i in range(len(train_df)):\n",
    "        train_df[i] = list(train_df[i])\n",
    "    \n",
    "    test_df = pd.read_pickle('test.pkl')\n",
    "    test_df = list(test_df.values)\n",
    "    for i in range(len(test_df)):\n",
    "        test_df[i] = list(test_df[i])\n",
    "    \n",
    "    return N,M,train_df,test_df"
   ]
  },
  {
   "cell_type": "code",
   "execution_count": 20,
   "metadata": {},
   "outputs": [],
   "source": [
    "def Figure(loss,rmse):\n",
    "    \n",
    "    fig1=plt.figure('LOSS')\n",
    "    x = range(len(loss))\n",
    "    plot(x, loss, color='g',linewidth=3)\n",
    "    plt.title('Convergence curve')\n",
    "    plt.xlabel('Iterations')\n",
    "    plt.ylabel('Loss')\n",
    "\n",
    "    fig2=plt.figure('RMSE')\n",
    "    x = range(len(rmse))\n",
    "    plot(x, rmse, color='r',linewidth=3)\n",
    "    plt.title('Convergence curve')\n",
    "    plt.xlabel('Iterations')\n",
    "    plt.ylabel('RMSE')\n",
    "    \n",
    "    show()"
   ]
  },
  {
   "cell_type": "code",
   "execution_count": null,
   "metadata": {},
   "outputs": [
    {
     "name": "stdout",
     "output_type": "stream",
     "text": [
      "0.0\n",
      "1.0\n",
      "2.0\n",
      "3.0\n",
      "4.0\n",
      "5.0\n",
      "6.0\n",
      "7.0\n",
      "8.0\n",
      "9.0\n",
      "10.0\n",
      "11.0\n",
      "12.0\n",
      "13.0\n",
      "14.0\n"
     ]
    }
   ],
   "source": [
    "N,M,train,test=Load_data()\n",
    "gamma=0.005\n",
    "D=10\n",
    "lambda_1=0.1\n",
    "Step=300\n",
    "loss,rmse,p,q=SGD(train,test,N,M,gamma,D,lambda_1,Step)\n",
    "print(rmse[-1])\n",
    "Figure(loss,rmse)"
   ]
  },
  {
   "cell_type": "code",
   "execution_count": null,
   "metadata": {},
   "outputs": [],
   "source": []
  }
 ],
 "metadata": {
  "kernelspec": {
   "display_name": "Python 3",
   "language": "python",
   "name": "python3"
  },
  "language_info": {
   "codemirror_mode": {
    "name": "ipython",
    "version": 3
   },
   "file_extension": ".py",
   "mimetype": "text/x-python",
   "name": "python",
   "nbconvert_exporter": "python",
   "pygments_lexer": "ipython3",
   "version": "3.7.3"
  }
 },
 "nbformat": 4,
 "nbformat_minor": 4
}
