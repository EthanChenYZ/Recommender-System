{
 "cells": [
  {
   "cell_type": "code",
   "execution_count": 1,
   "metadata": {},
   "outputs": [],
   "source": [
    "from pylab import *\n",
    "import numpy as np\n",
    "import pandas as pd\n",
    "import random\n",
    "import math"
   ]
  },
  {
   "cell_type": "code",
   "execution_count": 2,
   "metadata": {},
   "outputs": [],
   "source": [
    "def g(x):\n",
    "    res=1/(1+math.exp(-x))\n",
    "    return res"
   ]
  },
  {
   "cell_type": "code",
   "execution_count": 3,
   "metadata": {},
   "outputs": [],
   "source": [
    "def dg(x):\n",
    "    res=-math.exp(x)/(1+math.exp(x))**2\n",
    "    return res"
   ]
  },
  {
   "cell_type": "code",
   "execution_count": 4,
   "metadata": {},
   "outputs": [],
   "source": [
    "def data2mat(data, N, M):\n",
    "    # get the indicator function\n",
    "    I= [ [ 0 for i in range(M) ] for j in range(N) ]\n",
    "    for d in data:\n",
    "        u=d[0]\n",
    "        i=d[1]\n",
    "        r=d[2]\n",
    "        I[u][i]=1\n",
    "    I=np.array(I)   \n",
    "    return I"
   ]
  },
  {
   "cell_type": "code",
   "execution_count": 5,
   "metadata": {},
   "outputs": [],
   "source": [
    "def SGD(train,test,N,M,Level,eta,K,lambda_1,lambda_2,lambda_3,Step):\n",
    "    # train: train data\n",
    "    # test: test data\n",
    "    # N:the number of user\n",
    "    # M:the number of item\n",
    "    # Level:the max value of rating\n",
    "    # eta: the learning rata\n",
    "    # K: the number of latent factor\n",
    "    # lambda_1,lambda_2,lambda_3: regularization parameters\n",
    "    # Step: the max iteration\n",
    "    Y = np.random.normal(0, 1, (N, K))\n",
    "    V = np.random.normal(0, 1, (M, K))\n",
    "    W = np.random.normal(0, 1, (M, K))\n",
    "    U = Y\n",
    "    I = data2mat(train, N, M) # get the indicator function\n",
    "    rmse=[]\n",
    "    rms=RMSE(U,V,test,Level)\n",
    "    rmse.append(rms)\n",
    "    for ste in range(Step):\n",
    "        for data in train:\n",
    "            u=data[0]\n",
    "            i=data[1]\n",
    "            r=data[2]\n",
    "            rui=(r-1)/(Level-1);\n",
    "\n",
    "            Iu=I[u]\n",
    "            Yu=Y[u]\n",
    "            Vi=V[i]\n",
    "\n",
    "            U[u]=Yu+np.dot(Iu,W)/sum(Iu)\n",
    "            Uu=U[u]\n",
    "            \n",
    "            gui=g(np.dot(Uu,Vi.T))\n",
    "            dgui=dg(np.dot(Uu,Vi.T))\n",
    "            eui=rui- gui\n",
    "            \n",
    "            Y[u]=(1-eta*lambda_1)*Yu+eta*eui*dgui*Vi\n",
    "            V[i]=(1-eta*lambda_2)*Vi+eta*eui*dgui*Uu\n",
    "            W=(1-eta*lambda_3)*W+eta*eui/sum(Iu)*np.tile(Vi,(M,1))\n",
    "\n",
    "        rms=RMSE(U,V,test,Level)\n",
    "        rmse.append(rms)\n",
    "        \n",
    "        print(ste)\n",
    "    return rmse,U,V"
   ]
  },
  {
   "cell_type": "code",
   "execution_count": 6,
   "metadata": {},
   "outputs": [],
   "source": [
    "def RMSE(U,V,test,Level):\n",
    "    count=len(test)\n",
    "    sum_rmse=0.0\n",
    "    for t in test:\n",
    "        u=t[0]\n",
    "        i=t[1]\n",
    "        r=t[2]\n",
    "        pr= g(np.dot(U[u],V[i].T))*(Level-1)+1\n",
    "        sum_rmse+=np.square(r-pr)\n",
    "    rmse=np.sqrt(sum_rmse/count)\n",
    "    return rmse"
   ]
  },
  {
   "cell_type": "code",
   "execution_count": 13,
   "metadata": {},
   "outputs": [],
   "source": [
    "def Load_data():\n",
    "    \n",
    "    data_df = pd.read_pickle('data.pkl')\n",
    "    N = data_df.user_id.nunique()\n",
    "    M = data_df.item_id.nunique()\n",
    "    \n",
    "    train_df = pd.read_pickle('train.pkl')\n",
    "    train_df = list(train_df.values)\n",
    "    for i in range(len(train_df)):\n",
    "        train_df[i] = list(train_df[i])\n",
    "    \n",
    "    test_df = pd.read_pickle('test.pkl')\n",
    "    test_df = list(test_df.values)\n",
    "    for i in range(len(test_df)):\n",
    "        test_df[i] = list(test_df[i])\n",
    "    \n",
    "    return N,M,train_df,test_df"
   ]
  },
  {
   "cell_type": "code",
   "execution_count": 14,
   "metadata": {},
   "outputs": [],
   "source": [
    "def Figure(rmse):\n",
    "    fig=plt.figure('RMSE')\n",
    "    x = range(len(rmse))\n",
    "    plot(x, rmse, color='r',linewidth=3)\n",
    "    plt.title('Convergence curve')\n",
    "    plt.xlabel('Iterations')\n",
    "    plt.ylabel('RMSE')\n",
    "    show()"
   ]
  },
  {
   "cell_type": "code",
   "execution_count": 17,
   "metadata": {},
   "outputs": [
    {
     "data": {
      "image/png": "[encoded data removed]",
      "text/plain": [
       "<Figure size 432x288 with 1 Axes>"
      ]
     },
     "metadata": {
      "needs_background": "light"
     },
     "output_type": "display_data"
    }
   ],
   "source": [
    "N,M,train,test=Load_data()\n",
    "level = 5\n",
    "gamma=0.005\n",
    "D=10\n",
    "lambda_1=1\n",
    "lambda_2=1\n",
    "lambda_3=1\n",
    "Step=30\n",
    "rmse,U,V=SGD(train,test,N,M,level,gamma,D,lambda_1,lambda_2,lambda_3,Step)\n",
    "print(rmse[-1])\n",
    "Figure(rmse)"
   ]
  }
 ],
 "metadata": {
  "kernelspec": {
   "display_name": "Python 3",
   "language": "python",
   "name": "python3"
  },
  "language_info": {
   "codemirror_mode": {
    "name": "ipython",
    "version": 3
   },
   "file_extension": ".py",
   "mimetype": "text/x-python",
   "name": "python",
   "nbconvert_exporter": "python",
   "pygments_lexer": "ipython3",
   "version": "3.7.3"
  }
 },
 "nbformat": 4,
 "nbformat_minor": 2
}
