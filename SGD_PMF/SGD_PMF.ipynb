{
 "cells": [
  {
   "cell_type": "code",
   "execution_count": 1,
   "metadata": {},
   "outputs": [],
   "source": [
    "from pylab import *\n",
    "import numpy as np\n",
    "import pandas as pd\n",
    "import random\n",
    "import math"
   ]
  },
  {
   "cell_type": "code",
   "execution_count": 2,
   "metadata": {},
   "outputs": [],
   "source": [
    "def SGD(train,test,N,M,eta,K,lambda_1,lambda_2,Step):\n",
    "    # train: train data\n",
    "    # test: test data\n",
    "    # N:the number of user\n",
    "    # M:the number of item\n",
    "    # eta: the learning rata\n",
    "    # K: the number of latent factor\n",
    "    # lambda_1,lambda_2: regularization parameters\n",
    "    # Step: the max iteration\n",
    "    U = np.random.normal(0, 0.1, (N, K))\n",
    "    V = np.random.normal(0, 0.1, (M, K))\n",
    "    L=1000.0\n",
    "    rmse=[]\n",
    "    loss=[]\n",
    "    for ste in range(Step):\n",
    "        los=0.0\n",
    "        for data in train:\n",
    "            u=data[0]\n",
    "            i=data[1]\n",
    "            r=data[2]\n",
    "\n",
    "            e=r-np.dot(U[u],V[i].T)            \n",
    "            U[u]=U[u]+eta*(e*V[i]-lambda_1*U[u])\n",
    "            V[i]=V[i]+eta*(e*U[u]-lambda_2*V[i])\n",
    "\n",
    "            los=los+0.5*(e**2+lambda_1*np.square(U[u]).sum()+lambda_2*np.square(V[i]).sum())\n",
    "        loss.append(los)\n",
    "        rms=RMSE(U,V,test)\n",
    "        rmse.append(rms)\n",
    "        if los<L:\n",
    "            break\n",
    "        if ste%10==0:\n",
    "            print(ste/10)\n",
    "    return loss,rmse,U,V"
   ]
  },
  {
   "cell_type": "code",
   "execution_count": 3,
   "metadata": {},
   "outputs": [],
   "source": [
    "def RMSE(U,V,test):\n",
    "    count=len(test)\n",
    "    sum_rmse=0.0\n",
    "    for t in test:\n",
    "        u=t[0]\n",
    "        i=t[1]\n",
    "        r=t[2]\n",
    "        pr=np.dot(U[u],V[i].T)\n",
    "        sum_rmse+=np.square(r-pr)\n",
    "    rmse=np.sqrt(sum_rmse/count)\n",
    "    return rmse"
   ]
  },
  {
   "cell_type": "code",
   "execution_count": 4,
   "metadata": {},
   "outputs": [],
   "source": [
    "def Load_data():\n",
    "    \n",
    "    data_df = pd.read_pickle('data.pkl')\n",
    "    N = data_df.user_id.nunique()\n",
    "    M = data_df.item_id.nunique()\n",
    "    \n",
    "    train_df = pd.read_pickle('train.pkl')\n",
    "    train_df = list(train_df.values)\n",
    "    for i in range(len(train_df)):\n",
    "        train_df[i] = list(train_df[i])\n",
    "    \n",
    "    test_df = pd.read_pickle('test.pkl')\n",
    "    test_df = list(test_df.values)\n",
    "    for i in range(len(test_df)):\n",
    "        test_df[i] = list(test_df[i])\n",
    "    \n",
    "    return N,M,train_df,test_df"
   ]
  },
  {
   "cell_type": "code",
   "execution_count": 5,
   "metadata": {},
   "outputs": [],
   "source": [
    "def Figure(loss,rmse):\n",
    "    fig1=plt.figure('LOSS')\n",
    "    x = range(len(loss))\n",
    "    plot(x, loss, color='g',linewidth=3)\n",
    "    plt.title('Convergence curve')\n",
    "    plt.xlabel('Iterations')\n",
    "    plt.ylabel('Loss')\n",
    "\n",
    "    fig2=plt.figure('RMSE')\n",
    "    x = range(len(rmse))\n",
    "    plot(x, rmse, color='r',linewidth=3)\n",
    "    plt.title('Convergence curve')\n",
    "    plt.xlabel('Iterations')\n",
    "    plt.ylabel('RMSE')\n",
    "    show()"
   ]
  },
  {
   "cell_type": "code",
   "execution_count": null,
   "metadata": {},
   "outputs": [
    {
     "name": "stdout",
     "output_type": "stream",
     "text": [
      "0.0\n",
      "1.0\n",
      "2.0\n",
      "3.0\n",
      "4.0\n",
      "5.0\n",
      "6.0\n",
      "7.0\n",
      "8.0\n",
      "9.0\n",
      "10.0\n",
      "11.0\n",
      "12.0\n",
      "13.0\n",
      "14.0\n",
      "15.0\n",
      "16.0\n",
      "17.0\n",
      "18.0\n",
      "19.0\n",
      "20.0\n",
      "21.0\n",
      "22.0\n",
      "23.0\n",
      "24.0\n",
      "25.0\n",
      "26.0\n",
      "27.0\n"
     ]
    }
   ],
   "source": [
    "N,M,train,test=Load_data()\n",
    "gamma=0.005\n",
    "D=10\n",
    "lambda_1=0.1\n",
    "lambda_2=0.1\n",
    "Step=300\n",
    "loss,rmse,U,V=SGD(train,test,N,M,gamma,D,lambda_1,lambda_2,Step)\n",
    "print(rmse[-1])\n",
    "Figure(loss,rmse)"
   ]
  },
  {
   "cell_type": "code",
   "execution_count": null,
   "metadata": {},
   "outputs": [],
   "source": []
  }
 ],
 "metadata": {
  "kernelspec": {
   "display_name": "Python 3",
   "language": "python",
   "name": "python3"
  },
  "language_info": {
   "codemirror_mode": {
    "name": "ipython",
    "version": 3
   },
   "file_extension": ".py",
   "mimetype": "text/x-python",
   "name": "python",
   "nbconvert_exporter": "python",
   "pygments_lexer": "ipython3",
   "version": "3.7.3"
  }
 },
 "nbformat": 4,
 "nbformat_minor": 2
}
