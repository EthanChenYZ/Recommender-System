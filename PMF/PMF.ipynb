{
 "cells": [
  {
   "cell_type": "code",
   "execution_count": 1,
   "metadata": {},
   "outputs": [],
   "source": [
    "import numpy as np\n",
    "import math\n",
    "from sklearn.model_selection import train_test_split\n",
    "from data import *\n",
    "from evaluation import *\n",
    "%matplotlib inline"
   ]
  },
  {
   "cell_type": "markdown",
   "metadata": {},
   "source": [
    "### 加载数据集"
   ]
  },
  {
   "cell_type": "code",
   "execution_count": 2,
   "metadata": {
    "collapsed": false,
    "jupyter": {
     "outputs_hidden": false
    }
   },
   "outputs": [
    {
     "name": "stdout",
     "output_type": "stream",
     "text": [
      " data length: 100000 \n",
      " user number: 943 \n",
      " item number: 1682\n"
     ]
    }
   ],
   "source": [
    "data_dir = 'u.data' \n",
    "N, M, data_list, _ = load_data(file_dir=data_dir)\n",
    "print(' data length: %d \\n user number: %d \\n item number: %d' %(len(data_list),N,M))"
   ]
  },
  {
   "cell_type": "markdown",
   "metadata": {},
   "source": [
    "### 分割数据集"
   ]
  },
  {
   "cell_type": "code",
   "execution_count": 3,
   "metadata": {
    "collapsed": false,
    "jupyter": {
     "outputs_hidden": false
    }
   },
   "outputs": [
    {
     "name": "stdout",
     "output_type": "stream",
     "text": [
      "train length: 80000 \n",
      " test length: 20000\n"
     ]
    }
   ],
   "source": [
    "train_list, test_list = train_test_split(data_list,test_size=0.2)\n",
    "print ('train length: %d \\n test length: %d' %(len(train_list),len(test_list)))"
   ]
  },
  {
   "cell_type": "markdown",
   "metadata": {},
   "source": [
    "### 将 list 转换成 矩阵"
   ]
  },
  {
   "cell_type": "code",
   "execution_count": 4,
   "metadata": {},
   "outputs": [],
   "source": [
    "train_mat = sequence2mat(sequence = train_list, N = N, M = M)\n",
    "test_mat = sequence2mat(sequence = test_list, N = N, M = M)"
   ]
  },
  {
   "cell_type": "markdown",
   "metadata": {},
   "source": [
    "### 参数设置"
   ]
  },
  {
   "cell_type": "code",
   "execution_count": 5,
   "metadata": {},
   "outputs": [],
   "source": [
    "learning_rate = 0.005\n",
    "lamda_regularizer = 0.1\n",
    "max_iteration = 100\n",
    "K = 10"
   ]
  },
  {
   "cell_type": "markdown",
   "metadata": {},
   "source": [
    "### 3. 概率矩阵分解 （PMF）"
   ]
  },
  {
   "cell_type": "code",
   "execution_count": 6,
   "metadata": {
    "collapsed": false,
    "jupyter": {
     "outputs_hidden": false
    }
   },
   "outputs": [
    {
     "name": "stdout",
     "output_type": "stream",
     "text": [
      " step:0 \n",
      " loss:549878.9928,mae:3.5194,rmse:3.6937,recall:0.0101,precision:0.0214\n",
      " step:10 \n",
      " loss:65590.9802,mae:0.7835,rmse:0.9955,recall:0.0297,precision:0.0631\n",
      " step:20 \n",
      " loss:62725.5550,mae:0.7580,rmse:0.9589,recall:0.0304,precision:0.0645\n",
      " step:30 \n",
      " loss:61363.4050,mae:0.7446,rmse:0.9419,recall:0.0344,precision:0.0730\n",
      " step:40 \n",
      " loss:60493.5364,mae:0.7377,rmse:0.9331,recall:0.0307,precision:0.0650\n",
      " step:50 \n",
      " loss:59870.5903,mae:0.7338,rmse:0.9282,recall:0.0307,precision:0.0650\n",
      " step:60 \n",
      " loss:59403.2692,mae:0.7317,rmse:0.9257,recall:0.0303,precision:0.0643\n",
      " step:70 \n",
      " loss:59044.5080,mae:0.7308,rmse:0.9246,recall:0.0286,precision:0.0608\n",
      " step:80 \n",
      " loss:58765.1853,mae:0.7304,rmse:0.9242,recall:0.0272,precision:0.0576\n",
      " step:90 \n",
      " loss:58545.7599,mae:0.7303,rmse:0.9243,recall:0.0262,precision:0.0557\n",
      " end. \n",
      " loss:58387.7969,mae:0.7303,rmse:0.9246,recall:0.0248,precision:0.0525\n",
      "MAE:0.7303;RMSE:0.9246;Recall:0.0248;Precision:0.0525\n"
     ]
    },
    {
     "data": {
      "image/png": "[encoded data removed]",
      "text/plain": [
       "<Figure size 432x288 with 1 Axes>"
      ]
     },
     "metadata": {
      "needs_background": "light"
     },
     "output_type": "display_data"
    },
    {
     "data": {
      "image/png": "[encoded data removed]",
      "text/plain": [
       "<Figure size 432x288 with 1 Axes>"
      ]
     },
     "metadata": {
      "needs_background": "light"
     },
     "output_type": "display_data"
    }
   ],
   "source": [
    "from pmf import *\n",
    "model = pmf(train_list=train_list, \n",
    "            test_list=test_list, \n",
    "            N=N, \n",
    "            M=M,\n",
    "            K=K,\n",
    "            learning_rate=learning_rate, \n",
    "            lamda_regularizer=lamda_regularizer, \n",
    "            max_iteration=max_iteration)\n",
    "P, Q, records_array = model.train()\n",
    "print('MAE:%.4f;RMSE:%.4f;Recall:%.4f;Precision:%.4f'\n",
    "      %(records_array[:,1][-1],records_array[:,2][-1],records_array[:,3][-1],records_array[:,4][-1]))\n",
    "\n",
    "figure(values_list=records_array[:,0],name='loss')\n",
    "figure(values_list=records_array[:,1],name='MAE')"
   ]
  },
  {
   "cell_type": "code",
   "execution_count": null,
   "metadata": {},
   "outputs": [],
   "source": []
  }
 ],
 "metadata": {
  "kernelspec": {
   "display_name": "Python 3",
   "language": "python",
   "name": "python3"
  },
  "language_info": {
   "codemirror_mode": {
    "name": "ipython",
    "version": 3
   },
   "file_extension": ".py",
   "mimetype": "text/x-python",
   "name": "python",
   "nbconvert_exporter": "python",
   "pygments_lexer": "ipython3",
   "version": "3.7.3"
  }
 },
 "nbformat": 4,
 "nbformat_minor": 4
}
